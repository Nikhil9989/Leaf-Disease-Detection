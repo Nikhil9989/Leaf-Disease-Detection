{
  "nbformat": 4,
  "nbformat_minor": 0,
  "metadata": {
    "colab": {
      "name": "No SE full disease pre paper 1 Lakshmi Ma'am_ final.ipynb",
      "provenance": [],
      "collapsed_sections": [],
      "machine_shape": "hm",
      "include_colab_link": true
    },
    "kernelspec": {
      "name": "python3",
      "display_name": "Python 3"
    },
    "accelerator": "GPU"
  },
  "cells": [
    {
      "cell_type": "markdown",
      "metadata": {
        "id": "view-in-github",
        "colab_type": "text"
      },
      "source": [
        "<a href=\"https://colab.research.google.com/github/Nikhil9989/Leaf-Disease-Detection/blob/master/No_SE_full_disease__final.ipynb\" target=\"_parent\"><img src=\"https://colab.research.google.com/assets/colab-badge.svg\" alt=\"Open In Colab\"/></a>"
      ]
    },
    {
      "cell_type": "code",
      "metadata": {
        "id": "Kvc8NyovxjUt",
        "colab_type": "code",
        "outputId": "b1085db6-e8a4-4a2d-a397-f4e88070ac91",
        "colab": {
          "base_uri": "https://localhost:8080/",
          "height": 122
        }
      },
      "source": [
        "from google.colab import drive\n",
        "drive.mount('/content/gdrive')"
      ],
      "execution_count": 0,
      "outputs": [
        {
          "output_type": "stream",
          "text": [
            "Go to this URL in a browser: https://accounts.google.com/o/oauth2/auth?client_id=947318989803-6bn6qk8qdgf4n4g3pfee6491hc0brc4i.apps.googleusercontent.com&redirect_uri=urn%3aietf%3awg%3aoauth%3a2.0%3aoob&response_type=code&scope=email%20https%3a%2f%2fwww.googleapis.com%2fauth%2fdocs.test%20https%3a%2f%2fwww.googleapis.com%2fauth%2fdrive%20https%3a%2f%2fwww.googleapis.com%2fauth%2fdrive.photos.readonly%20https%3a%2f%2fwww.googleapis.com%2fauth%2fpeopleapi.readonly\n",
            "\n",
            "Enter your authorization code:\n",
            "··········\n",
            "Mounted at /content/gdrive\n"
          ],
          "name": "stdout"
        }
      ]
    },
    {
      "cell_type": "code",
      "metadata": {
        "id": "R87s6-dUz09f",
        "colab_type": "code",
        "outputId": "305e9f45-1d41-4985-8190-7c2bff8af6bf",
        "colab": {
          "base_uri": "https://localhost:8080/",
          "height": 34
        }
      },
      "source": [
        "import numpy as np\n",
        "import pickle\n",
        "import cv2\n",
        "from os import listdir\n",
        "from sklearn.preprocessing import LabelBinarizer\n",
        "from keras.models import Sequential\n",
        "from keras.layers.normalization import BatchNormalization\n",
        "from keras.layers.convolutional import Conv2D\n",
        "from keras.layers.convolutional import MaxPooling2D\n",
        "from keras.layers.core import Activation, Flatten, Dropout, Dense\n",
        "from keras import backend as K\n",
        "from keras.preprocessing.image import ImageDataGenerator\n",
        "from keras.optimizers import Adam\n",
        "from keras.preprocessing import image\n",
        "from keras.preprocessing.image import img_to_array\n",
        "from sklearn.preprocessing import MultiLabelBinarizer\n",
        "from sklearn.model_selection import train_test_split\n",
        "import matplotlib.pyplot as plt"
      ],
      "execution_count": 0,
      "outputs": [
        {
          "output_type": "stream",
          "text": [
            "Using TensorFlow backend.\n"
          ],
          "name": "stderr"
        }
      ]
    },
    {
      "cell_type": "code",
      "metadata": {
        "id": "tei8kcEGHVUM",
        "colab_type": "code",
        "colab": {}
      },
      "source": [
        "def convert_image_to_array(image_dir):\n",
        "    try:\n",
        "        image = cv2.imread(image_dir)\n",
        "        if image is not None :\n",
        "            image = cv2.resize(image, default_image_size)   \n",
        "            return img_to_array(image)\n",
        "        else :\n",
        "            return np.array([])\n",
        "    except Exception as e:\n",
        "        print(f\"Error : {e}\")\n",
        "        return None"
      ],
      "execution_count": 0,
      "outputs": []
    },
    {
      "cell_type": "code",
      "metadata": {
        "id": "OMAYpSg6HZUu",
        "colab_type": "code",
        "colab": {}
      },
      "source": [
        "EPOCHS = 25\n",
        "INIT_LR = 1e-3\n",
        "BS = 32\n",
        "default_image_size = tuple((256, 256))\n",
        "image_size = 0\n",
        "width=256\n",
        "height=256\n",
        "depth=3\n",
        "directory_root = '/content/gdrive/My Drive/raw/PlantVillage-Dataset-master/raw/'"
      ],
      "execution_count": 0,
      "outputs": []
    },
    {
      "cell_type": "code",
      "metadata": {
        "id": "LgecvYRLI8Yx",
        "colab_type": "code",
        "outputId": "6fd8e069-0fda-49e4-a054-143030b34f61",
        "colab": {
          "base_uri": "https://localhost:8080/",
          "height": 34
        }
      },
      "source": [
        "%tensorflow_version 2.x\n",
        "import tensorflow as tf\n",
        "device_name = tf.test.gpu_device_name()\n",
        "if device_name != '/device:GPU:0':\n",
        "  raise SystemError('GPU device not found')\n",
        "print('Found GPU at: {}'.format(device_name))"
      ],
      "execution_count": 0,
      "outputs": [
        {
          "output_type": "stream",
          "text": [
            "Found GPU at: /device:GPU:0\n"
          ],
          "name": "stdout"
        }
      ]
    },
    {
      "cell_type": "code",
      "metadata": {
        "id": "BOltqb24HgxF",
        "colab_type": "code",
        "outputId": "bf5c82e1-8224-43d3-a98d-fcb35570f1e8",
        "colab": {
          "base_uri": "https://localhost:8080/",
          "height": 697
        }
      },
      "source": [
        "image_list, label_list = [], []\n",
        "try:\n",
        "    print(\"[INFO] Loading images ...\")\n",
        "    root_dir = listdir(directory_root)\n",
        "    for directory in root_dir :\n",
        "        # remove .DS_Store from list\n",
        "        if directory == \".DS_Store\" :\n",
        "            root_dir.remove(directory)\n",
        "\n",
        "    for plant_folder in root_dir :\n",
        "        plant_disease_folder_list = listdir(f\"{directory_root}/{plant_folder}\")\n",
        "        \n",
        "        for disease_folder in plant_disease_folder_list :\n",
        "            # remove .DS_Store from list\n",
        "            if disease_folder == \".DS_Store\" :\n",
        "                plant_disease_folder_list.remove(disease_folder)\n",
        "\n",
        "        for plant_disease_folder in plant_disease_folder_list:\n",
        "            print(f\"[INFO] Processing {plant_disease_folder} ...\")\n",
        "            plant_disease_image_list = listdir(f\"{directory_root}/{plant_folder}/{plant_disease_folder}/\")\n",
        "                \n",
        "            for single_plant_disease_image in plant_disease_image_list :\n",
        "                if single_plant_disease_image == \".DS_Store\" :\n",
        "                    plant_disease_image_list.remove(single_plant_disease_image)\n",
        "\n",
        "            for image in plant_disease_image_list[:250]:\n",
        "                image_directory = f\"{directory_root}/{plant_folder}/{plant_disease_folder}/{image}\"\n",
        "                if image_directory.endswith(\".jpg\") == True or image_directory.endswith(\".JPG\") == True:\n",
        "                    image_list.append(convert_image_to_array(image_directory))\n",
        "                    label_list.append(plant_disease_folder)\n",
        "    print(\"[INFO] Image loading completed\")  \n",
        "except Exception as e:\n",
        "    print(f\"Error : {e}\")"
      ],
      "execution_count": 0,
      "outputs": [
        {
          "output_type": "stream",
          "text": [
            "[INFO] Loading images ...\n",
            "[INFO] Processing Tomato___Septoria_leaf_spot ...\n",
            "[INFO] Processing Tomato___Target_Spot ...\n",
            "[INFO] Processing Tomato___Late_blight ...\n",
            "[INFO] Processing Tomato___Tomato_mosaic_virus ...\n",
            "[INFO] Processing Tomato___healthy ...\n",
            "[INFO] Processing Tomato___Spider_mites Two-spotted_spider_mite ...\n",
            "[INFO] Processing Tomato___Early_blight ...\n",
            "[INFO] Processing Tomato___Leaf_Mold ...\n",
            "[INFO] Processing Tomato___Tomato_Yellow_Leaf_Curl_Virus ...\n",
            "[INFO] Processing Tomato___Bacterial_spot ...\n",
            "[INFO] Processing Squash___Powdery_mildew ...\n",
            "[INFO] Processing Strawberry___Leaf_scorch ...\n",
            "[INFO] Processing Strawberry___healthy ...\n",
            "[INFO] Processing Apple___Apple_scab ...\n",
            "[INFO] Processing Apple___Black_rot ...\n",
            "[INFO] Processing Apple___Cedar_apple_rust ...\n",
            "[INFO] Processing Apple___healthy ...\n",
            "[INFO] Processing Blueberry___healthy ...\n",
            "[INFO] Processing Cherry_(including_sour)___Powdery_mildew ...\n",
            "[INFO] Processing Cherry_(including_sour)___healthy ...\n",
            "[INFO] Processing Corn_(maize)___Cercospora_leaf_spot Gray_leaf_spot ...\n",
            "[INFO] Processing Corn_(maize)___Common_rust_ ...\n",
            "[INFO] Processing Corn_(maize)___Northern_Leaf_Blight ...\n",
            "[INFO] Processing Corn_(maize)___healthy ...\n",
            "[INFO] Processing Grape___Black_rot ...\n",
            "[INFO] Processing Grape___Esca_(Black_Measles) ...\n",
            "[INFO] Processing Grape___Leaf_blight_(Isariopsis_Leaf_Spot) ...\n",
            "[INFO] Processing Grape___healthy ...\n",
            "[INFO] Processing Orange___Haunglongbing_(Citrus_greening) ...\n",
            "[INFO] Processing Peach___Bacterial_spot ...\n",
            "[INFO] Processing Peach___healthy ...\n",
            "[INFO] Processing Pepper,_bell___Bacterial_spot ...\n",
            "[INFO] Processing Pepper,_bell___healthy ...\n",
            "[INFO] Processing Potato___Early_blight ...\n",
            "[INFO] Processing Potato___Late_blight ...\n",
            "[INFO] Processing Potato___healthy ...\n",
            "[INFO] Processing Raspberry___healthy ...\n",
            "[INFO] Processing Soybean___healthy ...\n",
            "[INFO] Image loading completed\n"
          ],
          "name": "stdout"
        }
      ]
    },
    {
      "cell_type": "code",
      "metadata": {
        "id": "0WKerXhwHk-n",
        "colab_type": "code",
        "outputId": "a203fd94-9ec3-4709-a903-d25a61082a2f",
        "colab": {
          "base_uri": "https://localhost:8080/",
          "height": 34
        }
      },
      "source": [
        "image_size = len(image_list)\n",
        "image_size"
      ],
      "execution_count": 0,
      "outputs": [
        {
          "output_type": "execute_result",
          "data": {
            "text/plain": [
              "9402"
            ]
          },
          "metadata": {
            "tags": []
          },
          "execution_count": 8
        }
      ]
    },
    {
      "cell_type": "code",
      "metadata": {
        "id": "KNtdOrW-K2VQ",
        "colab_type": "code",
        "outputId": "2defddff-396c-4c6e-e56b-aa99dd3e87ba",
        "colab": {
          "base_uri": "https://localhost:8080/",
          "height": 340
        }
      },
      "source": [
        "label_binarizer = LabelBinarizer()\n",
        "image_labels = label_binarizer.fit_transform(label_list)\n",
        "pickle.dump(label_binarizer,open('label_transform.pkl', 'wb'))\n",
        "n_classes = len(label_binarizer.classes_)\n",
        "\n",
        "\n",
        "print(label_binarizer.classes_)"
      ],
      "execution_count": 0,
      "outputs": [
        {
          "output_type": "stream",
          "text": [
            "['Apple___Apple_scab' 'Apple___Black_rot' 'Apple___Cedar_apple_rust'\n",
            " 'Apple___healthy' 'Blueberry___healthy'\n",
            " 'Cherry_(including_sour)___Powdery_mildew'\n",
            " 'Cherry_(including_sour)___healthy'\n",
            " 'Corn_(maize)___Cercospora_leaf_spot Gray_leaf_spot'\n",
            " 'Corn_(maize)___Common_rust_' 'Corn_(maize)___Northern_Leaf_Blight'\n",
            " 'Corn_(maize)___healthy' 'Grape___Black_rot'\n",
            " 'Grape___Esca_(Black_Measles)'\n",
            " 'Grape___Leaf_blight_(Isariopsis_Leaf_Spot)' 'Grape___healthy'\n",
            " 'Orange___Haunglongbing_(Citrus_greening)' 'Peach___Bacterial_spot'\n",
            " 'Peach___healthy' 'Pepper,_bell___Bacterial_spot'\n",
            " 'Pepper,_bell___healthy' 'Potato___Early_blight' 'Potato___Late_blight'\n",
            " 'Potato___healthy' 'Raspberry___healthy' 'Soybean___healthy'\n",
            " 'Squash___Powdery_mildew' 'Strawberry___Leaf_scorch'\n",
            " 'Strawberry___healthy' 'Tomato___Bacterial_spot' 'Tomato___Early_blight'\n",
            " 'Tomato___Late_blight' 'Tomato___Leaf_Mold' 'Tomato___Septoria_leaf_spot'\n",
            " 'Tomato___Spider_mites Two-spotted_spider_mite' 'Tomato___Target_Spot'\n",
            " 'Tomato___Tomato_Yellow_Leaf_Curl_Virus' 'Tomato___Tomato_mosaic_virus'\n",
            " 'Tomato___healthy']\n"
          ],
          "name": "stdout"
        }
      ]
    },
    {
      "cell_type": "code",
      "metadata": {
        "id": "7rrekXOHK7XP",
        "colab_type": "code",
        "colab": {}
      },
      "source": [
        "np_image_list = np.array(image_list, dtype=np.float16) / 225.0"
      ],
      "execution_count": 0,
      "outputs": []
    },
    {
      "cell_type": "code",
      "metadata": {
        "id": "vvwjwzZvLDac",
        "colab_type": "code",
        "outputId": "597f331c-2364-4395-eed0-0e118ff044df",
        "colab": {
          "base_uri": "https://localhost:8080/",
          "height": 34
        }
      },
      "source": [
        "print(\"[INFO] Spliting data to train, test\")\n",
        "x_train, x_test, y_train, y_test = train_test_split(np_image_list, image_labels, test_size=0.2, random_state = 42) "
      ],
      "execution_count": 0,
      "outputs": [
        {
          "output_type": "stream",
          "text": [
            "[INFO] Spliting data to train, test\n"
          ],
          "name": "stdout"
        }
      ]
    },
    {
      "cell_type": "code",
      "metadata": {
        "id": "36c2Rq_QLG3u",
        "colab_type": "code",
        "colab": {}
      },
      "source": [
        "aug = ImageDataGenerator(\n",
        "    rotation_range=25, width_shift_range=0.1,\n",
        "    height_shift_range=0.1, shear_range=0.2, \n",
        "    zoom_range=0.2,horizontal_flip=True, \n",
        "    fill_mode=\"nearest\")"
      ],
      "execution_count": 0,
      "outputs": []
    },
    {
      "cell_type": "code",
      "metadata": {
        "id": "9Ovy0twBLN5J",
        "colab_type": "code",
        "colab": {}
      },
      "source": [
        "from __future__ import print_function\n",
        "import keras\n",
        "from keras.models import Sequential\n",
        "from keras import layers\n",
        "from keras.datasets import mnist\n",
        "from keras import backend as K"
      ],
      "execution_count": 0,
      "outputs": []
    },
    {
      "cell_type": "code",
      "metadata": {
        "id": "yELwsDwpLQHS",
        "colab_type": "code",
        "colab": {}
      },
      "source": [
        "class squeezeExcitation(layers.Layer):\n",
        "    def squeeze_excite_block(self, input_shape, ratio=16):\n",
        "        ''' Create a channel-wise squeeze-excite block\n",
        "        Args:\n",
        "            input: input tensor\n",
        "            filters: number of output filters\n",
        "        Returns: a keras tensor\n",
        "        References\n",
        "        -   [Squeeze and Excitation Networks](https://arxiv.org/abs/1709.01507)\n",
        "        '''\n",
        "        init = input\n",
        "        channel_axis = 1 if K.image_data_format() == \"channels_first\" else -1\n",
        "        filters = init._keras_shape[channel_axis]\n",
        "        se_shape = (1, 1, filters)\n",
        "\n",
        "        se = GlobalAveragePooling2D()(init)\n",
        "        se = Reshape(se_shape)(se)\n",
        "        se = Dense(filters // ratio, activation='relu', kernel_initializer='he_normal', use_bias=False)(se)\n",
        "        se = Dense(filters, activation='sigmoid', kernel_initializer='he_normal', use_bias=False)(se)\n",
        "\n",
        "        if K.image_data_format() == 'channels_first':\n",
        "            se = Permute((3, 1, 2))(se)\n",
        "\n",
        "        x = multiply([init, se])\n",
        "        return x\n",
        "    \n",
        "    def spatial_squeeze_excite_block(self, input_shape):\n",
        "        ''' Create a spatial squeeze-excite block\n",
        "        Args:\n",
        "            input: input tensor\n",
        "        Returns: a keras tensor\n",
        "        References\n",
        "        -   [Concurrent Spatial and Channel Squeeze & Excitation in Fully Convolutional Networks](https://arxiv.org/abs/1803.02579)\n",
        "        '''\n",
        "\n",
        "        se = Conv2D(1, (1, 1), activation='sigmoid', use_bias=False,\n",
        "                    kernel_initializer='he_normal')(input)\n",
        "\n",
        "        x = multiply([input, se])\n",
        "        return x\n",
        "\n",
        "\n",
        "    def channel_spatial_squeeze_excite(self, input_shape, ratio=16):\n",
        "        ''' Create a spatial squeeze-excite block\n",
        "        Args:\n",
        "            input: input tensor\n",
        "            filters: number of output filters\n",
        "        Returns: a keras tensor\n",
        "        References\n",
        "        -   [Squeeze and Excitation Networks](https://arxiv.org/abs/1709.01507)\n",
        "        -   [Concurrent Spatial and Channel Squeeze & Excitation in Fully Convolutional Networks](https://arxiv.org/abs/1803.02579)\n",
        "        '''\n",
        "\n",
        "        cse = squeeze_excite_block(input, ratio)\n",
        "        sse = spatial_squeeze_excite_block(input)\n",
        "\n",
        "        x = add([cse, sse])\n",
        "        return x"
      ],
      "execution_count": 0,
      "outputs": []
    },
    {
      "cell_type": "code",
      "metadata": {
        "id": "x-1alZDoLUER",
        "colab_type": "code",
        "colab": {}
      },
      "source": [
        "model = Sequential()\n",
        "inputShape = (height, width, depth)\n",
        "chanDim = -1\n",
        "if K.image_data_format() == \"channels_first\":\n",
        "    inputShape = (depth, height, width)\n",
        "    chanDim = 1\n",
        "model.add(Conv2D(32, (3, 3), padding=\"same\",input_shape=inputShape))\n",
        "model.add(Activation(\"relu\"))\n",
        "model.add(BatchNormalization(axis=chanDim))\n",
        "model.add(MaxPooling2D(pool_size=(3, 3)))\n",
        "model.add(Dropout(0.25))\n",
        "model.add(Conv2D(64, (3, 3), padding=\"same\"))\n",
        "model.add(Activation(\"relu\"))\n",
        "model.add(BatchNormalization(axis=chanDim))\n",
        "model.add(Conv2D(64, (3, 3), padding=\"same\"))\n",
        "model.add(Activation(\"relu\"))\n",
        "model.add(BatchNormalization(axis=chanDim))\n",
        "model.add(MaxPooling2D(pool_size=(2, 2)))\n",
        "model.add(Dropout(0.25))\n",
        "model.add(Conv2D(128, (3, 3), padding=\"same\"))\n",
        "model.add(Activation(\"relu\"))\n",
        "model.add(BatchNormalization(axis=chanDim))\n",
        "model.add(Conv2D(128, (3, 3), padding=\"same\"))\n",
        "model.add(Activation(\"relu\"))\n",
        "model.add(BatchNormalization(axis=chanDim))\n",
        "model.add(MaxPooling2D(pool_size=(2, 2)))\n",
        "model.add(Dropout(0.25))\n",
        "model.add(Flatten())\n",
        "model.add(Dense(1024))\n",
        "model.add(Activation(\"relu\"))\n",
        "model.add(BatchNormalization())\n",
        "model.add(Dropout(0.5))\n",
        "model.add(Dense(n_classes))\n",
        "model.add(Activation(\"softmax\"))"
      ],
      "execution_count": 0,
      "outputs": []
    },
    {
      "cell_type": "code",
      "metadata": {
        "id": "1TVcrjsaLXIS",
        "colab_type": "code",
        "outputId": "7773743a-038d-477e-d001-7a9e9972b956",
        "colab": {
          "base_uri": "https://localhost:8080/",
          "height": 1000
        }
      },
      "source": [
        "model.summary()"
      ],
      "execution_count": 0,
      "outputs": [
        {
          "output_type": "stream",
          "text": [
            "Model: \"sequential_1\"\n",
            "_________________________________________________________________\n",
            "Layer (type)                 Output Shape              Param #   \n",
            "=================================================================\n",
            "conv2d_1 (Conv2D)            (None, 256, 256, 32)      896       \n",
            "_________________________________________________________________\n",
            "activation_1 (Activation)    (None, 256, 256, 32)      0         \n",
            "_________________________________________________________________\n",
            "batch_normalization_1 (Batch (None, 256, 256, 32)      128       \n",
            "_________________________________________________________________\n",
            "max_pooling2d_1 (MaxPooling2 (None, 85, 85, 32)        0         \n",
            "_________________________________________________________________\n",
            "dropout_1 (Dropout)          (None, 85, 85, 32)        0         \n",
            "_________________________________________________________________\n",
            "conv2d_2 (Conv2D)            (None, 85, 85, 64)        18496     \n",
            "_________________________________________________________________\n",
            "activation_2 (Activation)    (None, 85, 85, 64)        0         \n",
            "_________________________________________________________________\n",
            "batch_normalization_2 (Batch (None, 85, 85, 64)        256       \n",
            "_________________________________________________________________\n",
            "conv2d_3 (Conv2D)            (None, 85, 85, 64)        36928     \n",
            "_________________________________________________________________\n",
            "activation_3 (Activation)    (None, 85, 85, 64)        0         \n",
            "_________________________________________________________________\n",
            "batch_normalization_3 (Batch (None, 85, 85, 64)        256       \n",
            "_________________________________________________________________\n",
            "max_pooling2d_2 (MaxPooling2 (None, 42, 42, 64)        0         \n",
            "_________________________________________________________________\n",
            "dropout_2 (Dropout)          (None, 42, 42, 64)        0         \n",
            "_________________________________________________________________\n",
            "conv2d_4 (Conv2D)            (None, 42, 42, 128)       73856     \n",
            "_________________________________________________________________\n",
            "activation_4 (Activation)    (None, 42, 42, 128)       0         \n",
            "_________________________________________________________________\n",
            "batch_normalization_4 (Batch (None, 42, 42, 128)       512       \n",
            "_________________________________________________________________\n",
            "conv2d_5 (Conv2D)            (None, 42, 42, 128)       147584    \n",
            "_________________________________________________________________\n",
            "activation_5 (Activation)    (None, 42, 42, 128)       0         \n",
            "_________________________________________________________________\n",
            "batch_normalization_5 (Batch (None, 42, 42, 128)       512       \n",
            "_________________________________________________________________\n",
            "max_pooling2d_3 (MaxPooling2 (None, 21, 21, 128)       0         \n",
            "_________________________________________________________________\n",
            "dropout_3 (Dropout)          (None, 21, 21, 128)       0         \n",
            "_________________________________________________________________\n",
            "flatten_1 (Flatten)          (None, 56448)             0         \n",
            "_________________________________________________________________\n",
            "dense_1 (Dense)              (None, 1024)              57803776  \n",
            "_________________________________________________________________\n",
            "activation_6 (Activation)    (None, 1024)              0         \n",
            "_________________________________________________________________\n",
            "batch_normalization_6 (Batch (None, 1024)              4096      \n",
            "_________________________________________________________________\n",
            "dropout_4 (Dropout)          (None, 1024)              0         \n",
            "_________________________________________________________________\n",
            "dense_2 (Dense)              (None, 38)                38950     \n",
            "_________________________________________________________________\n",
            "activation_7 (Activation)    (None, 38)                0         \n",
            "=================================================================\n",
            "Total params: 58,126,246\n",
            "Trainable params: 58,123,366\n",
            "Non-trainable params: 2,880\n",
            "_________________________________________________________________\n"
          ],
          "name": "stdout"
        }
      ]
    },
    {
      "cell_type": "code",
      "metadata": {
        "id": "I166lXAELYwo",
        "colab_type": "code",
        "outputId": "e539989b-d61a-447b-a137-af34edc8df58",
        "colab": {
          "base_uri": "https://localhost:8080/",
          "height": 884
        }
      },
      "source": [
        "opt = Adam(lr=INIT_LR, decay=INIT_LR / EPOCHS)\n",
        "# distribution\n",
        "model.compile(loss=\"binary_crossentropy\", optimizer=opt,metrics=[\"accuracy\"])\n",
        "# train the network\n",
        "print(\"[INFO] training network...\")\n",
        "\n",
        "history = model.fit_generator(\n",
        "    aug.flow(x_train, y_train, batch_size=BS),\n",
        "    validation_data=(x_test, y_test),\n",
        "    steps_per_epoch=len(x_train) // BS,\n",
        "    epochs=EPOCHS, verbose=1\n",
        "    )"
      ],
      "execution_count": 17,
      "outputs": [
        {
          "output_type": "stream",
          "text": [
            "[INFO] training network...\n",
            "Epoch 1/25\n",
            "235/235 [==============================] - 110s 469ms/step - loss: 0.0843 - accuracy: 0.9756 - val_loss: 0.3681 - val_accuracy: 0.9500\n",
            "Epoch 2/25\n",
            "235/235 [==============================] - 105s 448ms/step - loss: 0.0627 - accuracy: 0.9797 - val_loss: 0.1562 - val_accuracy: 0.9667\n",
            "Epoch 3/25\n",
            "235/235 [==============================] - 105s 448ms/step - loss: 0.0516 - accuracy: 0.9828 - val_loss: 0.1660 - val_accuracy: 0.9683\n",
            "Epoch 4/25\n",
            "235/235 [==============================] - 105s 446ms/step - loss: 0.0442 - accuracy: 0.9850 - val_loss: 0.2402 - val_accuracy: 0.9630\n",
            "Epoch 5/25\n",
            "235/235 [==============================] - 104s 441ms/step - loss: 0.0393 - accuracy: 0.9865 - val_loss: 0.0650 - val_accuracy: 0.9824\n",
            "Epoch 6/25\n",
            "235/235 [==============================] - 104s 441ms/step - loss: 0.0334 - accuracy: 0.9886 - val_loss: 0.0366 - val_accuracy: 0.9881\n",
            "Epoch 7/25\n",
            "235/235 [==============================] - 102s 436ms/step - loss: 0.0290 - accuracy: 0.9900 - val_loss: 0.0946 - val_accuracy: 0.9773\n",
            "Epoch 8/25\n",
            "235/235 [==============================] - 101s 429ms/step - loss: 0.0271 - accuracy: 0.9904 - val_loss: 0.0761 - val_accuracy: 0.9829\n",
            "Epoch 9/25\n",
            "235/235 [==============================] - 101s 429ms/step - loss: 0.0261 - accuracy: 0.9907 - val_loss: 0.0438 - val_accuracy: 0.9864\n",
            "Epoch 10/25\n",
            "235/235 [==============================] - 100s 426ms/step - loss: 0.0239 - accuracy: 0.9915 - val_loss: 0.1505 - val_accuracy: 0.9719\n",
            "Epoch 11/25\n",
            "235/235 [==============================] - 100s 425ms/step - loss: 0.0206 - accuracy: 0.9927 - val_loss: 0.1023 - val_accuracy: 0.9764\n",
            "Epoch 12/25\n",
            "235/235 [==============================] - 101s 428ms/step - loss: 0.0208 - accuracy: 0.9927 - val_loss: 0.1074 - val_accuracy: 0.9761\n",
            "Epoch 13/25\n",
            "235/235 [==============================] - 100s 426ms/step - loss: 0.0187 - accuracy: 0.9935 - val_loss: 0.0842 - val_accuracy: 0.9806\n",
            "Epoch 14/25\n",
            "235/235 [==============================] - 100s 427ms/step - loss: 0.0183 - accuracy: 0.9934 - val_loss: 0.1560 - val_accuracy: 0.9738\n",
            "Epoch 15/25\n",
            "235/235 [==============================] - 100s 427ms/step - loss: 0.0219 - accuracy: 0.9925 - val_loss: 0.0671 - val_accuracy: 0.9825\n",
            "Epoch 16/25\n",
            "235/235 [==============================] - 100s 426ms/step - loss: 0.0177 - accuracy: 0.9938 - val_loss: 0.0969 - val_accuracy: 0.9782\n",
            "Epoch 17/25\n",
            "235/235 [==============================] - 100s 426ms/step - loss: 0.0168 - accuracy: 0.9941 - val_loss: 0.0346 - val_accuracy: 0.9901\n",
            "Epoch 18/25\n",
            "235/235 [==============================] - 101s 430ms/step - loss: 0.0145 - accuracy: 0.9949 - val_loss: 0.1118 - val_accuracy: 0.9769\n",
            "Epoch 19/25\n",
            "235/235 [==============================] - 101s 428ms/step - loss: 0.0131 - accuracy: 0.9956 - val_loss: 0.0671 - val_accuracy: 0.9871\n",
            "Epoch 20/25\n",
            "235/235 [==============================] - 101s 430ms/step - loss: 0.0137 - accuracy: 0.9954 - val_loss: 0.0272 - val_accuracy: 0.9925\n",
            "Epoch 21/25\n",
            "235/235 [==============================] - 101s 429ms/step - loss: 0.0130 - accuracy: 0.9956 - val_loss: 0.0335 - val_accuracy: 0.9895\n",
            "Epoch 22/25\n",
            "235/235 [==============================] - 101s 430ms/step - loss: 0.0132 - accuracy: 0.9954 - val_loss: 0.2691 - val_accuracy: 0.9640\n",
            "Epoch 23/25\n",
            "235/235 [==============================] - 100s 427ms/step - loss: 0.0139 - accuracy: 0.9950 - val_loss: 0.1007 - val_accuracy: 0.9782\n",
            "Epoch 24/25\n",
            "235/235 [==============================] - 100s 427ms/step - loss: 0.0123 - accuracy: 0.9958 - val_loss: 0.0179 - val_accuracy: 0.9945\n",
            "Epoch 25/25\n",
            "235/235 [==============================] - 100s 427ms/step - loss: 0.0116 - accuracy: 0.9960 - val_loss: 0.0406 - val_accuracy: 0.9893\n"
          ],
          "name": "stdout"
        }
      ]
    },
    {
      "cell_type": "code",
      "metadata": {
        "id": "g3MhPCbnLcNz",
        "colab_type": "code",
        "colab": {
          "base_uri": "https://localhost:8080/",
          "height": 545
        },
        "outputId": "92138b5b-2e11-4b0a-f8d9-5ed9d061a008"
      },
      "source": [
        "acc = history.history['accuracy']\n",
        "val_acc = history.history['val_accuracy']\n",
        "loss = history.history['loss']\n",
        "val_loss = history.history['val_loss']\n",
        "epochs = range(1, len(acc) + 1)\n",
        "#Train and validation accuracy\n",
        "plt.plot(epochs, acc, 'b', label='Training accurarcy')\n",
        "plt.plot(epochs, val_acc, 'r', label='Validation accurarcy')\n",
        "plt.title('Training and Validation accurarcy')\n",
        "plt.legend()\n",
        "\n",
        "plt.figure()\n",
        "#Train and validation loss\n",
        "plt.plot(epochs, loss, 'b', label='Training loss')\n",
        "plt.plot(epochs, val_loss, 'r', label='Validation loss')\n",
        "plt.title('Training and Validation loss')\n",
        "plt.legend()\n",
        "plt.show()"
      ],
      "execution_count": 23,
      "outputs": [
        {
          "output_type": "display_data",
          "data": {
            "image/png": "[encoded data removed]",
            "text/plain": [
              "<Figure size 432x288 with 1 Axes>"
            ]
          },
          "metadata": {
            "tags": [],
            "needs_background": "light"
          }
        },
        {
          "output_type": "display_data",
          "data": {
            "image/png": "[encoded data removed]",
            "text/plain": [
              "<Figure size 432x288 with 1 Axes>"
            ]
          },
          "metadata": {
            "tags": [],
            "needs_background": "light"
          }
        }
      ]
    },
    {
      "cell_type": "code",
      "metadata": {
        "id": "4cVOTsJQMidq",
        "colab_type": "code",
        "colab": {
          "base_uri": "https://localhost:8080/",
          "height": 68
        },
        "outputId": "a8887485-fda3-4d76-d896-1f5150fcdd89"
      },
      "source": [
        "print(\"[INFO] Calculating model accuracy\")\n",
        "scores = model.evaluate(x_test, y_test)\n",
        "print(f\"Test Accuracy: {scores[1]*100}\")"
      ],
      "execution_count": 24,
      "outputs": [
        {
          "output_type": "stream",
          "text": [
            "[INFO] Calculating model accuracy\n",
            "1881/1881 [==============================] - 4s 2ms/step\n",
            "Test Accuracy: 98.92974495887756\n"
          ],
          "name": "stdout"
        }
      ]
    },
    {
      "cell_type": "code",
      "metadata": {
        "id": "13-XPAR8NZbq",
        "colab_type": "code",
        "colab": {
          "base_uri": "https://localhost:8080/",
          "height": 34
        },
        "outputId": "9230683c-7cde-4a03-e8f6-5be841093933"
      },
      "source": [
        "print(\"[INFO] Saving model...\")\n",
        "pickle.dump(model,open('cnn_model_38_classes_test_NO_SE_250imagesperclass.pkl', 'wb'))"
      ],
      "execution_count": 27,
      "outputs": [
        {
          "output_type": "stream",
          "text": [
            "[INFO] Saving model...\n"
          ],
          "name": "stdout"
        }
      ]
    },
    {
      "cell_type": "code",
      "metadata": {
        "id": "wYJrhvq6NhtM",
        "colab_type": "code",
        "colab": {
          "base_uri": "https://localhost:8080/",
          "height": 34
        },
        "outputId": "a17a0928-7420-4a08-ceb6-e6b62ae4eb20"
      },
      "source": [
        "import shutil, os\n",
        "files = \"/content/cnn_model_38_classes_test_NO_SE_250imagesperclass.pkl\"\n",
        "shutil.copy(files, '/content/gdrive/My Drive/raw/PlantVillage-Dataset-master/models/')"
      ],
      "execution_count": 28,
      "outputs": [
        {
          "output_type": "execute_result",
          "data": {
            "text/plain": [
              "'/content/gdrive/My Drive/raw/PlantVillage-Dataset-master/models/cnn_model_38_classes_test_NO_SE_250imagesperclass.pkl'"
            ]
          },
          "metadata": {
            "tags": []
          },
          "execution_count": 28
        }
      ]
    },
    {
      "cell_type": "code",
      "metadata": {
        "id": "136JS5gfJ1cb",
        "colab_type": "code",
        "colab": {
          "base_uri": "https://localhost:8080/",
          "height": 1000
        },
        "outputId": "7680af9b-37be-44e4-f307-58f6228885e8"
      },
      "source": [
        "from sklearn.metrics import confusion_matrix \n",
        "from sklearn.metrics import accuracy_score \n",
        "from sklearn.metrics import classification_report \n",
        "a = model.predict(x_test)\n",
        "print(a)\n",
        "from sklearn import metrics\n",
        "y_pred = a\n",
        "matrix = metrics.confusion_matrix(y_test.argmax(axis=1), y_pred.argmax(axis=1))\n",
        "print ('Accuracy Score :',accuracy_score(y_test.argmax(axis=1), y_pred.argmax(axis=1)) )\n",
        "print ('Report : ')\n",
        "print (classification_report(y_test.argmax(axis=1), y_pred.argmax(axis=1)) )\n",
        "# Writing to an excel \n",
        "# sheet using Python \n",
        "import xlwt \n",
        "from xlwt import Workbook \n",
        "\n",
        "# Workbook is created \n",
        "wb = Workbook() \n",
        "\n",
        "# add_sheet is used to create sheet. \n",
        "sheet1 = wb.add_sheet('Sheet 1') \n",
        "\n",
        "\n",
        "f = open(\"confusion_matrix.txt\", \"w\")\n",
        "for i in range(len(matrix)):\n",
        "    for j in range(len(matrix[i])):\n",
        "        sheet1.write(i, j, str(matrix[i][j]))\n",
        "        print(matrix[i][j], end=\" \")\n",
        "        f.write(str(matrix[i][j])+\" \")\n",
        "    print(\"\\n\")\n",
        "    f.write(\"\\n\")\n",
        "wb.save('confusion_matrix.xls') "
      ],
      "execution_count": 29,
      "outputs": [
        {
          "output_type": "stream",
          "text": [
            "[[1.6056534e-08 1.8587107e-09 1.2347832e-10 ... 1.3228631e-10\n",
            "  1.0450826e-10 4.1198717e-08]\n",
            " [3.7327412e-05 2.8223489e-05 7.0031398e-08 ... 2.9670263e-03\n",
            "  6.3087326e-01 5.8544409e-03]\n",
            " [3.2952068e-09 2.3328219e-09 3.7996325e-12 ... 8.6778636e-15\n",
            "  2.7295059e-12 1.3536347e-10]\n",
            " ...\n",
            " [5.6946945e-09 5.9698763e-10 1.3048232e-10 ... 7.4207635e-14\n",
            "  5.5910532e-12 3.5051007e-10]\n",
            " [4.6531810e-09 1.9715242e-10 5.4523562e-13 ... 8.4720343e-18\n",
            "  4.4447770e-15 3.3431580e-13]\n",
            " [2.0192440e-06 1.7877799e-02 1.6365386e-09 ... 1.5202284e-09\n",
            "  3.6704183e-05 2.3310013e-08]]\n",
            "Accuracy Score : 0.7884104199893673\n",
            "Report : \n",
            "              precision    recall  f1-score   support\n",
            "\n",
            "           0       0.71      0.88      0.79        40\n",
            "           1       0.74      0.98      0.84        47\n",
            "           2       1.00      0.71      0.83        42\n",
            "           3       0.50      0.95      0.65        57\n",
            "           4       0.67      1.00      0.80        50\n",
            "           5       1.00      0.82      0.90        57\n",
            "           6       0.98      0.93      0.95        57\n",
            "           7       0.71      0.98      0.82        50\n",
            "           8       1.00      1.00      1.00        47\n",
            "           9       1.00      0.55      0.71        62\n",
            "          10       1.00      1.00      1.00        48\n",
            "          11       0.97      0.59      0.73        51\n",
            "          12       0.80      0.95      0.87        56\n",
            "          13       0.96      0.87      0.92        62\n",
            "          14       1.00      0.43      0.61        46\n",
            "          15       0.95      0.98      0.97        43\n",
            "          16       0.93      0.80      0.86        51\n",
            "          17       0.97      0.79      0.87        48\n",
            "          18       1.00      0.60      0.75        50\n",
            "          19       0.90      0.49      0.64        57\n",
            "          20       0.62      1.00      0.77        44\n",
            "          21       0.79      0.59      0.68        46\n",
            "          22       0.86      0.70      0.78        27\n",
            "          23       1.00      0.90      0.95        48\n",
            "          24       0.80      0.69      0.74        51\n",
            "          25       0.97      1.00      0.99        35\n",
            "          26       0.74      0.98      0.85        62\n",
            "          27       0.70      0.98      0.81        56\n",
            "          28       0.90      0.60      0.72        43\n",
            "          29       0.94      0.48      0.64        60\n",
            "          30       0.74      0.49      0.59        53\n",
            "          31       0.79      0.78      0.78        40\n",
            "          32       0.54      0.96      0.70        57\n",
            "          33       0.91      0.42      0.57        48\n",
            "          34       0.88      0.33      0.47        43\n",
            "          35       0.91      0.89      0.90        54\n",
            "          36       0.62      0.82      0.70        38\n",
            "          37       0.50      1.00      0.67        55\n",
            "\n",
            "    accuracy                           0.79      1881\n",
            "   macro avg       0.84      0.79      0.78      1881\n",
            "weighted avg       0.84      0.79      0.78      1881\n",
            "\n",
            "35 0 0 4 0 0 0 0 0 0 0 0 0 0 0 0 0 0 0 0 0 0 0 0 0 0 0 0 0 0 0 1 0 0 0 0 0 0 \n",
            "\n",
            "1 46 0 0 0 0 0 0 0 0 0 0 0 0 0 0 0 0 0 0 0 0 0 0 0 0 0 0 0 0 0 0 0 0 0 0 0 0 \n",
            "\n",
            "1 0 30 0 0 0 0 0 0 0 0 1 0 1 0 0 1 0 0 0 2 1 0 0 0 0 1 0 3 0 0 0 1 0 0 0 0 0 \n",
            "\n",
            "0 0 0 54 1 0 0 0 0 0 0 0 0 0 0 0 0 0 0 0 0 0 0 0 1 0 0 0 0 0 0 0 0 0 0 0 0 1 \n",
            "\n",
            "0 0 0 0 50 0 0 0 0 0 0 0 0 0 0 0 0 0 0 0 0 0 0 0 0 0 0 0 0 0 0 0 0 0 0 0 0 0 \n",
            "\n",
            "0 0 0 2 0 47 0 0 0 0 0 0 0 0 0 2 1 0 0 2 0 0 0 0 0 0 0 1 0 0 1 0 0 0 0 1 0 0 \n",
            "\n",
            "0 1 0 0 0 0 53 0 0 0 0 0 0 0 0 0 0 0 0 0 0 0 2 0 0 0 0 0 0 0 0 0 1 0 0 0 0 0 \n",
            "\n",
            "0 0 0 0 0 0 0 49 0 0 0 0 0 1 0 0 0 0 0 0 0 0 0 0 0 0 0 0 0 0 0 0 0 0 0 0 0 0 \n",
            "\n",
            "0 0 0 0 0 0 0 0 47 0 0 0 0 0 0 0 0 0 0 0 0 0 0 0 0 0 0 0 0 0 0 0 0 0 0 0 0 0 \n",
            "\n",
            "0 0 0 0 0 0 0 20 0 34 0 0 0 0 0 0 0 0 0 0 0 0 0 0 0 1 5 0 0 0 2 0 0 0 0 0 0 0 \n",
            "\n",
            "0 0 0 0 0 0 0 0 0 0 48 0 0 0 0 0 0 0 0 0 0 0 0 0 0 0 0 0 0 0 0 0 0 0 0 0 0 0 \n",
            "\n",
            "0 0 0 0 0 0 0 0 0 0 0 30 13 0 0 0 0 0 0 0 1 0 0 0 1 0 6 0 0 0 0 0 0 0 0 0 0 0 \n",
            "\n",
            "0 0 0 0 0 0 0 0 0 0 0 0 53 0 0 0 0 0 0 0 0 0 0 0 0 0 2 0 0 0 0 0 0 0 0 0 0 1 \n",
            "\n",
            "0 0 0 0 0 0 0 0 0 0 0 0 0 54 0 0 0 0 0 0 4 0 0 0 0 0 4 0 0 0 0 0 0 0 0 0 0 0 \n",
            "\n",
            "0 0 0 6 0 0 0 0 0 0 0 0 0 0 20 0 0 0 0 0 0 0 0 0 4 0 0 15 0 0 0 0 1 0 0 0 0 0 \n",
            "\n",
            "0 0 0 0 0 0 0 0 0 0 0 0 0 0 0 42 0 0 0 0 0 0 0 0 0 0 0 0 0 0 0 0 0 0 0 0 0 1 \n",
            "\n",
            "1 3 0 0 0 0 0 0 0 0 0 0 0 0 0 0 41 0 0 0 0 0 0 0 0 0 1 0 0 0 0 2 3 0 0 0 0 0 \n",
            "\n",
            "0 0 0 4 6 0 0 0 0 0 0 0 0 0 0 0 0 38 0 0 0 0 0 0 0 0 0 0 0 0 0 0 0 0 0 0 0 0 \n",
            "\n",
            "2 8 0 1 0 0 0 0 0 0 0 0 0 0 0 0 0 0 30 1 2 0 0 0 0 0 1 0 0 0 0 0 5 0 0 0 0 0 \n",
            "\n",
            "0 3 0 3 11 0 1 0 0 0 0 0 0 0 0 0 0 0 0 28 0 0 1 0 3 0 0 1 0 0 0 0 0 0 0 0 0 6 \n",
            "\n",
            "0 0 0 0 0 0 0 0 0 0 0 0 0 0 0 0 0 0 0 0 44 0 0 0 0 0 0 0 0 0 0 0 0 0 0 0 0 0 \n",
            "\n",
            "2 0 0 3 0 0 0 0 0 0 0 0 0 0 0 0 0 0 0 0 9 27 0 0 0 0 0 3 0 0 1 0 1 0 0 0 0 0 \n",
            "\n",
            "0 0 0 4 0 0 0 0 0 0 0 0 0 0 0 0 0 0 0 0 0 0 19 0 0 0 0 1 0 0 0 0 0 0 0 0 0 3 \n",
            "\n",
            "0 0 0 0 1 0 0 0 0 0 0 0 0 0 0 0 0 0 0 0 0 0 0 43 0 0 0 3 0 0 0 0 0 0 0 0 0 1 \n",
            "\n",
            "0 0 0 12 4 0 0 0 0 0 0 0 0 0 0 0 0 0 0 0 0 0 0 0 35 0 0 0 0 0 0 0 0 0 0 0 0 0 \n",
            "\n",
            "0 0 0 0 0 0 0 0 0 0 0 0 0 0 0 0 0 0 0 0 0 0 0 0 0 35 0 0 0 0 0 0 0 0 0 0 0 0 \n",
            "\n",
            "0 0 0 0 0 0 0 0 0 0 0 0 0 0 0 0 0 0 0 0 1 0 0 0 0 0 61 0 0 0 0 0 0 0 0 0 0 0 \n",
            "\n",
            "0 0 0 1 0 0 0 0 0 0 0 0 0 0 0 0 0 0 0 0 0 0 0 0 0 0 0 55 0 0 0 0 0 0 0 0 0 0 \n",
            "\n",
            "0 0 0 5 0 0 0 0 0 0 0 0 0 0 0 0 0 0 0 0 0 0 0 0 0 0 0 0 26 2 2 2 3 0 0 3 0 0 \n",
            "\n",
            "4 0 0 0 1 0 0 0 0 0 0 0 0 0 0 0 1 0 0 0 3 1 0 0 0 0 1 0 0 29 3 0 11 1 1 1 0 3 \n",
            "\n",
            "0 0 0 5 0 0 0 0 0 0 0 0 0 0 0 0 0 1 0 0 5 5 0 0 0 0 0 0 0 0 26 3 5 0 0 0 2 1 \n",
            "\n",
            "0 0 0 0 0 0 0 0 0 0 0 0 0 0 0 0 0 0 0 0 0 0 0 0 0 0 0 0 0 0 0 31 4 0 0 0 5 0 \n",
            "\n",
            "1 0 0 0 0 0 0 0 0 0 0 0 0 0 0 0 0 0 0 0 0 0 0 0 0 0 0 0 0 0 0 0 55 0 0 0 0 1 \n",
            "\n",
            "0 0 0 1 1 0 0 0 0 0 0 0 0 0 0 0 0 0 0 0 0 0 0 0 0 0 0 0 0 0 0 0 0 20 1 0 7 18 \n",
            "\n",
            "2 1 0 4 0 0 0 0 0 0 0 0 0 0 0 0 0 0 0 0 0 0 0 0 0 0 0 0 0 0 0 0 3 0 14 0 2 17 \n",
            "\n",
            "0 0 0 0 0 0 0 0 0 0 0 0 0 0 0 0 0 0 0 0 0 0 0 0 0 0 0 0 0 0 0 0 1 1 0 48 3 1 \n",
            "\n",
            "0 0 0 0 0 0 0 0 0 0 0 0 0 0 0 0 0 0 0 0 0 0 0 0 0 0 0 0 0 0 0 0 7 0 0 0 31 0 \n",
            "\n",
            "0 0 0 0 0 0 0 0 0 0 0 0 0 0 0 0 0 0 0 0 0 0 0 0 0 0 0 0 0 0 0 0 0 0 0 0 0 55 \n",
            "\n"
          ],
          "name": "stdout"
        }
      ]
    },
    {
      "cell_type": "code",
      "metadata": {
        "id": "VlvHnW04-xPB",
        "colab_type": "code",
        "colab": {}
      },
      "source": [
        ""
      ],
      "execution_count": 0,
      "outputs": []
    }
  ]
}