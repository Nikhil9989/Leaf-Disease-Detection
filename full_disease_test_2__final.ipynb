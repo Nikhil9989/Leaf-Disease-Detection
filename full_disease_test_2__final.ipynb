{
  "nbformat": 4,
  "nbformat_minor": 0,
  "metadata": {
    "colab": {
      "name": "full disease test 2_ final.ipynb",
      "provenance": [],
      "collapsed_sections": [],
      "machine_shape": "hm",
      "include_colab_link": true
    },
    "kernelspec": {
      "name": "python3",
      "display_name": "Python 3"
    },
    "accelerator": "GPU"
  },
  "cells": [
    {
      "cell_type": "markdown",
      "metadata": {
        "id": "view-in-github",
        "colab_type": "text"
      },
      "source": [
        "<a href=\"https://colab.research.google.com/github/Nikhil9989/Leaf-Disease-Detection/blob/master/full_disease_test_2__final.ipynb\" target=\"_parent\"><img src=\"https://colab.research.google.com/assets/colab-badge.svg\" alt=\"Open In Colab\"/></a>"
      ]
    },
    {
      "cell_type": "code",
      "metadata": {
        "id": "Kvc8NyovxjUt",
        "colab_type": "code",
        "outputId": "378a734b-6e39-41aa-bd8f-685a5e2fbc24",
        "colab": {
          "base_uri": "https://localhost:8080/",
          "height": 122
        }
      },
      "source": [
        "from google.colab import drive\n",
        "drive.mount('/content/gdrive')"
      ],
      "execution_count": 3,
      "outputs": [
        {
          "output_type": "stream",
          "text": [
            "Go to this URL in a browser: https://accounts.google.com/o/oauth2/auth?client_id=947318989803-6bn6qk8qdgf4n4g3pfee6491hc0brc4i.apps.googleusercontent.com&redirect_uri=urn%3aietf%3awg%3aoauth%3a2.0%3aoob&response_type=code&scope=email%20https%3a%2f%2fwww.googleapis.com%2fauth%2fdocs.test%20https%3a%2f%2fwww.googleapis.com%2fauth%2fdrive%20https%3a%2f%2fwww.googleapis.com%2fauth%2fdrive.photos.readonly%20https%3a%2f%2fwww.googleapis.com%2fauth%2fpeopleapi.readonly\n",
            "\n",
            "Enter your authorization code:\n",
            "··········\n",
            "Mounted at /content/gdrive\n"
          ],
          "name": "stdout"
        }
      ]
    },
    {
      "cell_type": "code",
      "metadata": {
        "id": "R87s6-dUz09f",
        "colab_type": "code",
        "outputId": "eba453ba-001e-4c8b-f16b-b95cca3293d0",
        "colab": {
          "base_uri": "https://localhost:8080/",
          "height": 34
        }
      },
      "source": [
        "import numpy as np\n",
        "import pickle\n",
        "import cv2\n",
        "from os import listdir\n",
        "from sklearn.preprocessing import LabelBinarizer\n",
        "from keras.models import Sequential\n",
        "from keras.layers.normalization import BatchNormalization\n",
        "from keras.layers.convolutional import Conv2D\n",
        "from keras.layers.convolutional import MaxPooling2D\n",
        "from keras.layers.core import Activation, Flatten, Dropout, Dense\n",
        "from keras import backend as K\n",
        "from keras.preprocessing.image import ImageDataGenerator\n",
        "from keras.optimizers import Adam\n",
        "from keras.preprocessing import image\n",
        "from keras.preprocessing.image import img_to_array\n",
        "from sklearn.preprocessing import MultiLabelBinarizer\n",
        "from sklearn.model_selection import train_test_split\n",
        "import matplotlib.pyplot as plt"
      ],
      "execution_count": 4,
      "outputs": [
        {
          "output_type": "stream",
          "text": [
            "Using TensorFlow backend.\n"
          ],
          "name": "stderr"
        }
      ]
    },
    {
      "cell_type": "code",
      "metadata": {
        "id": "tei8kcEGHVUM",
        "colab_type": "code",
        "colab": {}
      },
      "source": [
        "def convert_image_to_array(image_dir):\n",
        "    try:\n",
        "        image = cv2.imread(image_dir)\n",
        "        if image is not None :\n",
        "            image = cv2.resize(image, default_image_size)   \n",
        "            return img_to_array(image)\n",
        "        else :\n",
        "            return np.array([])\n",
        "    except Exception as e:\n",
        "        print(f\"Error : {e}\")\n",
        "        return None"
      ],
      "execution_count": 0,
      "outputs": []
    },
    {
      "cell_type": "code",
      "metadata": {
        "id": "OMAYpSg6HZUu",
        "colab_type": "code",
        "colab": {}
      },
      "source": [
        "EPOCHS = 25\n",
        "INIT_LR = 1e-3\n",
        "BS = 32\n",
        "default_image_size = tuple((256, 256))\n",
        "image_size = 0\n",
        "width=256\n",
        "height=256\n",
        "depth=3\n",
        "directory_root = '/content/gdrive/My Drive/raw/PlantVillage-Dataset-master/raw/'"
      ],
      "execution_count": 0,
      "outputs": []
    },
    {
      "cell_type": "code",
      "metadata": {
        "id": "LgecvYRLI8Yx",
        "colab_type": "code",
        "outputId": "6950422d-64de-4c9e-951b-0319a0522eb8",
        "colab": {
          "base_uri": "https://localhost:8080/",
          "height": 34
        }
      },
      "source": [
        "%tensorflow_version 2.x\n",
        "import tensorflow as tf\n",
        "device_name = tf.test.gpu_device_name()\n",
        "if device_name != '/device:GPU:0':\n",
        "  raise SystemError('GPU device not found')\n",
        "print('Found GPU at: {}'.format(device_name))"
      ],
      "execution_count": 7,
      "outputs": [
        {
          "output_type": "stream",
          "text": [
            "Found GPU at: /device:GPU:0\n"
          ],
          "name": "stdout"
        }
      ]
    },
    {
      "cell_type": "code",
      "metadata": {
        "id": "BOltqb24HgxF",
        "colab_type": "code",
        "outputId": "5fbd0b41-82af-4efb-ef03-55735b0f52ab",
        "colab": {
          "base_uri": "https://localhost:8080/",
          "height": 697
        }
      },
      "source": [
        "image_list, label_list = [], []\n",
        "try:\n",
        "    print(\"[INFO] Loading images ...\")\n",
        "    root_dir = listdir(directory_root)\n",
        "    for directory in root_dir :\n",
        "        # remove .DS_Store from list\n",
        "        if directory == \".DS_Store\" :\n",
        "            root_dir.remove(directory)\n",
        "\n",
        "    for plant_folder in root_dir :\n",
        "        plant_disease_folder_list = listdir(f\"{directory_root}/{plant_folder}\")\n",
        "        \n",
        "        for disease_folder in plant_disease_folder_list :\n",
        "            # remove .DS_Store from list\n",
        "            if disease_folder == \".DS_Store\" :\n",
        "                plant_disease_folder_list.remove(disease_folder)\n",
        "\n",
        "        for plant_disease_folder in plant_disease_folder_list:\n",
        "            print(f\"[INFO] Processing {plant_disease_folder} ...\")\n",
        "            plant_disease_image_list = listdir(f\"{directory_root}/{plant_folder}/{plant_disease_folder}/\")\n",
        "                \n",
        "            for single_plant_disease_image in plant_disease_image_list :\n",
        "                if single_plant_disease_image == \".DS_Store\" :\n",
        "                    plant_disease_image_list.remove(single_plant_disease_image)\n",
        "\n",
        "            for image in plant_disease_image_list[:250]:\n",
        "                image_directory = f\"{directory_root}/{plant_folder}/{plant_disease_folder}/{image}\"\n",
        "                if image_directory.endswith(\".jpg\") == True or image_directory.endswith(\".JPG\") == True:\n",
        "                    image_list.append(convert_image_to_array(image_directory))\n",
        "                    label_list.append(plant_disease_folder)\n",
        "    print(\"[INFO] Image loading completed\")  \n",
        "except Exception as e:\n",
        "    print(f\"Error : {e}\")"
      ],
      "execution_count": 8,
      "outputs": [
        {
          "output_type": "stream",
          "text": [
            "[INFO] Loading images ...\n",
            "[INFO] Processing Tomato___Septoria_leaf_spot ...\n",
            "[INFO] Processing Tomato___Target_Spot ...\n",
            "[INFO] Processing Tomato___Late_blight ...\n",
            "[INFO] Processing Tomato___Tomato_mosaic_virus ...\n",
            "[INFO] Processing Tomato___healthy ...\n",
            "[INFO] Processing Tomato___Spider_mites Two-spotted_spider_mite ...\n",
            "[INFO] Processing Tomato___Early_blight ...\n",
            "[INFO] Processing Tomato___Leaf_Mold ...\n",
            "[INFO] Processing Tomato___Tomato_Yellow_Leaf_Curl_Virus ...\n",
            "[INFO] Processing Tomato___Bacterial_spot ...\n",
            "[INFO] Processing Squash___Powdery_mildew ...\n",
            "[INFO] Processing Strawberry___Leaf_scorch ...\n",
            "[INFO] Processing Strawberry___healthy ...\n",
            "[INFO] Processing Apple___Apple_scab ...\n",
            "[INFO] Processing Apple___Black_rot ...\n",
            "[INFO] Processing Apple___Cedar_apple_rust ...\n",
            "[INFO] Processing Apple___healthy ...\n",
            "[INFO] Processing Blueberry___healthy ...\n",
            "[INFO] Processing Cherry_(including_sour)___Powdery_mildew ...\n",
            "[INFO] Processing Cherry_(including_sour)___healthy ...\n",
            "[INFO] Processing Corn_(maize)___Cercospora_leaf_spot Gray_leaf_spot ...\n",
            "[INFO] Processing Corn_(maize)___Common_rust_ ...\n",
            "[INFO] Processing Corn_(maize)___Northern_Leaf_Blight ...\n",
            "[INFO] Processing Corn_(maize)___healthy ...\n",
            "[INFO] Processing Grape___Black_rot ...\n",
            "[INFO] Processing Grape___Esca_(Black_Measles) ...\n",
            "[INFO] Processing Grape___Leaf_blight_(Isariopsis_Leaf_Spot) ...\n",
            "[INFO] Processing Grape___healthy ...\n",
            "[INFO] Processing Orange___Haunglongbing_(Citrus_greening) ...\n",
            "[INFO] Processing Peach___Bacterial_spot ...\n",
            "[INFO] Processing Peach___healthy ...\n",
            "[INFO] Processing Pepper,_bell___Bacterial_spot ...\n",
            "[INFO] Processing Pepper,_bell___healthy ...\n",
            "[INFO] Processing Potato___Early_blight ...\n",
            "[INFO] Processing Potato___Late_blight ...\n",
            "[INFO] Processing Potato___healthy ...\n",
            "[INFO] Processing Raspberry___healthy ...\n",
            "[INFO] Processing Soybean___healthy ...\n",
            "[INFO] Image loading completed\n"
          ],
          "name": "stdout"
        }
      ]
    },
    {
      "cell_type": "code",
      "metadata": {
        "id": "0WKerXhwHk-n",
        "colab_type": "code",
        "outputId": "db983a16-7560-4c43-885b-7b565db72c8c",
        "colab": {
          "base_uri": "https://localhost:8080/",
          "height": 34
        }
      },
      "source": [
        "image_size = len(image_list)\n",
        "image_size"
      ],
      "execution_count": 9,
      "outputs": [
        {
          "output_type": "execute_result",
          "data": {
            "text/plain": [
              "9297"
            ]
          },
          "metadata": {
            "tags": []
          },
          "execution_count": 9
        }
      ]
    },
    {
      "cell_type": "code",
      "metadata": {
        "id": "KNtdOrW-K2VQ",
        "colab_type": "code",
        "outputId": "8b8227b9-2b42-40bc-db7c-664570279c7b",
        "colab": {
          "base_uri": "https://localhost:8080/",
          "height": 340
        }
      },
      "source": [
        "label_binarizer = LabelBinarizer()\n",
        "image_labels = label_binarizer.fit_transform(label_list)\n",
        "pickle.dump(label_binarizer,open('label_transform.pkl', 'wb'))\n",
        "n_classes = len(label_binarizer.classes_)\n",
        "\n",
        "\n",
        "print(label_binarizer.classes_)"
      ],
      "execution_count": 10,
      "outputs": [
        {
          "output_type": "stream",
          "text": [
            "['Apple___Apple_scab' 'Apple___Black_rot' 'Apple___Cedar_apple_rust'\n",
            " 'Apple___healthy' 'Blueberry___healthy'\n",
            " 'Cherry_(including_sour)___Powdery_mildew'\n",
            " 'Cherry_(including_sour)___healthy'\n",
            " 'Corn_(maize)___Cercospora_leaf_spot Gray_leaf_spot'\n",
            " 'Corn_(maize)___Common_rust_' 'Corn_(maize)___Northern_Leaf_Blight'\n",
            " 'Corn_(maize)___healthy' 'Grape___Black_rot'\n",
            " 'Grape___Esca_(Black_Measles)'\n",
            " 'Grape___Leaf_blight_(Isariopsis_Leaf_Spot)' 'Grape___healthy'\n",
            " 'Orange___Haunglongbing_(Citrus_greening)' 'Peach___Bacterial_spot'\n",
            " 'Peach___healthy' 'Pepper,_bell___Bacterial_spot'\n",
            " 'Pepper,_bell___healthy' 'Potato___Early_blight' 'Potato___Late_blight'\n",
            " 'Potato___healthy' 'Raspberry___healthy' 'Soybean___healthy'\n",
            " 'Squash___Powdery_mildew' 'Strawberry___Leaf_scorch'\n",
            " 'Strawberry___healthy' 'Tomato___Bacterial_spot' 'Tomato___Early_blight'\n",
            " 'Tomato___Late_blight' 'Tomato___Leaf_Mold' 'Tomato___Septoria_leaf_spot'\n",
            " 'Tomato___Spider_mites Two-spotted_spider_mite' 'Tomato___Target_Spot'\n",
            " 'Tomato___Tomato_Yellow_Leaf_Curl_Virus' 'Tomato___Tomato_mosaic_virus'\n",
            " 'Tomato___healthy']\n"
          ],
          "name": "stdout"
        }
      ]
    },
    {
      "cell_type": "code",
      "metadata": {
        "id": "7rrekXOHK7XP",
        "colab_type": "code",
        "colab": {}
      },
      "source": [
        "np_image_list = np.array(image_list, dtype=np.float16) / 225.0"
      ],
      "execution_count": 0,
      "outputs": []
    },
    {
      "cell_type": "code",
      "metadata": {
        "id": "vvwjwzZvLDac",
        "colab_type": "code",
        "outputId": "55e5800e-dd39-47ed-d058-3c63f03b6e67",
        "colab": {
          "base_uri": "https://localhost:8080/",
          "height": 34
        }
      },
      "source": [
        "print(\"[INFO] Spliting data to train, test\")\n",
        "x_train, x_test, y_train, y_test = train_test_split(np_image_list, image_labels, test_size=0.2, random_state = 42) "
      ],
      "execution_count": 12,
      "outputs": [
        {
          "output_type": "stream",
          "text": [
            "[INFO] Spliting data to train, test\n"
          ],
          "name": "stdout"
        }
      ]
    },
    {
      "cell_type": "code",
      "metadata": {
        "id": "36c2Rq_QLG3u",
        "colab_type": "code",
        "colab": {}
      },
      "source": [
        "aug = ImageDataGenerator(\n",
        "    rotation_range=25, width_shift_range=0.1,\n",
        "    height_shift_range=0.1, shear_range=0.2, \n",
        "    zoom_range=0.2,horizontal_flip=True, \n",
        "    fill_mode=\"nearest\")"
      ],
      "execution_count": 0,
      "outputs": []
    },
    {
      "cell_type": "code",
      "metadata": {
        "id": "9Ovy0twBLN5J",
        "colab_type": "code",
        "colab": {}
      },
      "source": [
        "from __future__ import print_function\n",
        "import keras\n",
        "from keras.models import Sequential\n",
        "from keras import layers\n",
        "from keras.datasets import mnist\n",
        "from keras import backend as K"
      ],
      "execution_count": 0,
      "outputs": []
    },
    {
      "cell_type": "code",
      "metadata": {
        "id": "yELwsDwpLQHS",
        "colab_type": "code",
        "colab": {}
      },
      "source": [
        "class squeezeExcitation(layers.Layer):\n",
        "    def squeeze_excite_block(self, input_shape, ratio=16):\n",
        "        ''' Create a channel-wise squeeze-excite block\n",
        "        Args:\n",
        "            input: input tensor\n",
        "            filters: number of output filters\n",
        "        Returns: a keras tensor\n",
        "        References\n",
        "        -   [Squeeze and Excitation Networks](https://arxiv.org/abs/1709.01507)\n",
        "        '''\n",
        "        init = input\n",
        "        channel_axis = 1 if K.image_data_format() == \"channels_first\" else -1\n",
        "        filters = init._keras_shape[channel_axis]\n",
        "        se_shape = (1, 1, filters)\n",
        "\n",
        "        se = GlobalAveragePooling2D()(init)\n",
        "        se = Reshape(se_shape)(se)\n",
        "        se = Dense(filters // ratio, activation='relu', kernel_initializer='he_normal', use_bias=False)(se)\n",
        "        se = Dense(filters, activation='sigmoid', kernel_initializer='he_normal', use_bias=False)(se)\n",
        "\n",
        "        if K.image_data_format() == 'channels_first':\n",
        "            se = Permute((3, 1, 2))(se)\n",
        "\n",
        "        x = multiply([init, se])\n",
        "        return x\n",
        "    \n",
        "    def spatial_squeeze_excite_block(self, input_shape):\n",
        "        ''' Create a spatial squeeze-excite block\n",
        "        Args:\n",
        "            input: input tensor\n",
        "        Returns: a keras tensor\n",
        "        References\n",
        "        -   [Concurrent Spatial and Channel Squeeze & Excitation in Fully Convolutional Networks](https://arxiv.org/abs/1803.02579)\n",
        "        '''\n",
        "\n",
        "        se = Conv2D(1, (1, 1), activation='sigmoid', use_bias=False,\n",
        "                    kernel_initializer='he_normal')(input)\n",
        "\n",
        "        x = multiply([input, se])\n",
        "        return x\n",
        "\n",
        "\n",
        "    def channel_spatial_squeeze_excite(self, input_shape, ratio=16):\n",
        "        ''' Create a spatial squeeze-excite block\n",
        "        Args:\n",
        "            input: input tensor\n",
        "            filters: number of output filters\n",
        "        Returns: a keras tensor\n",
        "        References\n",
        "        -   [Squeeze and Excitation Networks](https://arxiv.org/abs/1709.01507)\n",
        "        -   [Concurrent Spatial and Channel Squeeze & Excitation in Fully Convolutional Networks](https://arxiv.org/abs/1803.02579)\n",
        "        '''\n",
        "\n",
        "        cse = squeeze_excite_block(input, ratio)\n",
        "        sse = spatial_squeeze_excite_block(input)\n",
        "\n",
        "        x = add([cse, sse])\n",
        "        return x"
      ],
      "execution_count": 0,
      "outputs": []
    },
    {
      "cell_type": "code",
      "metadata": {
        "id": "x-1alZDoLUER",
        "colab_type": "code",
        "colab": {}
      },
      "source": [
        "model = Sequential()\n",
        "inputShape = (height, width, depth)\n",
        "chanDim = -1\n",
        "if K.image_data_format() == \"channels_first\":\n",
        "    inputShape = (depth, height, width)\n",
        "    chanDim = 1\n",
        "model.add(Conv2D(32, (3, 3), padding=\"same\",input_shape=inputShape))\n",
        "model.add(Activation(\"relu\"))\n",
        "model.add(BatchNormalization(axis=chanDim))\n",
        "model.add(MaxPooling2D(pool_size=(3, 3)))\n",
        "model.add(squeezeExcitation())\n",
        "model.add(Dropout(0.25))\n",
        "model.add(Conv2D(64, (3, 3), padding=\"same\"))\n",
        "model.add(Activation(\"relu\"))\n",
        "model.add(BatchNormalization(axis=chanDim))\n",
        "model.add(Conv2D(64, (3, 3), padding=\"same\"))\n",
        "model.add(Activation(\"relu\"))\n",
        "model.add(BatchNormalization(axis=chanDim))\n",
        "model.add(MaxPooling2D(pool_size=(2, 2)))\n",
        "model.add(Dropout(0.25))\n",
        "model.add(Conv2D(128, (3, 3), padding=\"same\"))\n",
        "model.add(Activation(\"relu\"))\n",
        "model.add(BatchNormalization(axis=chanDim))\n",
        "model.add(Conv2D(128, (3, 3), padding=\"same\"))\n",
        "model.add(Activation(\"relu\"))\n",
        "model.add(BatchNormalization(axis=chanDim))\n",
        "model.add(MaxPooling2D(pool_size=(2, 2)))\n",
        "model.add(Dropout(0.25))\n",
        "model.add(Flatten())\n",
        "model.add(Dense(1024))\n",
        "model.add(Activation(\"relu\"))\n",
        "model.add(BatchNormalization())\n",
        "model.add(Dropout(0.5))\n",
        "model.add(Dense(n_classes))\n",
        "model.add(Activation(\"softmax\"))"
      ],
      "execution_count": 0,
      "outputs": []
    },
    {
      "cell_type": "code",
      "metadata": {
        "id": "1TVcrjsaLXIS",
        "colab_type": "code",
        "colab": {
          "base_uri": "https://localhost:8080/",
          "height": 1000
        },
        "outputId": "f7a86da7-66fa-49e8-940b-ecffb3853e83"
      },
      "source": [
        "model.summary()"
      ],
      "execution_count": 17,
      "outputs": [
        {
          "output_type": "stream",
          "text": [
            "Model: \"sequential_1\"\n",
            "_________________________________________________________________\n",
            "Layer (type)                 Output Shape              Param #   \n",
            "=================================================================\n",
            "conv2d_1 (Conv2D)            (None, 256, 256, 32)      896       \n",
            "_________________________________________________________________\n",
            "activation_1 (Activation)    (None, 256, 256, 32)      0         \n",
            "_________________________________________________________________\n",
            "batch_normalization_1 (Batch (None, 256, 256, 32)      128       \n",
            "_________________________________________________________________\n",
            "max_pooling2d_1 (MaxPooling2 (None, 85, 85, 32)        0         \n",
            "_________________________________________________________________\n",
            "squeeze_excitation_1 (squeez (None, 85, 85, 32)        0         \n",
            "_________________________________________________________________\n",
            "dropout_1 (Dropout)          (None, 85, 85, 32)        0         \n",
            "_________________________________________________________________\n",
            "conv2d_2 (Conv2D)            (None, 85, 85, 64)        18496     \n",
            "_________________________________________________________________\n",
            "activation_2 (Activation)    (None, 85, 85, 64)        0         \n",
            "_________________________________________________________________\n",
            "batch_normalization_2 (Batch (None, 85, 85, 64)        256       \n",
            "_________________________________________________________________\n",
            "conv2d_3 (Conv2D)            (None, 85, 85, 64)        36928     \n",
            "_________________________________________________________________\n",
            "activation_3 (Activation)    (None, 85, 85, 64)        0         \n",
            "_________________________________________________________________\n",
            "batch_normalization_3 (Batch (None, 85, 85, 64)        256       \n",
            "_________________________________________________________________\n",
            "max_pooling2d_2 (MaxPooling2 (None, 42, 42, 64)        0         \n",
            "_________________________________________________________________\n",
            "dropout_2 (Dropout)          (None, 42, 42, 64)        0         \n",
            "_________________________________________________________________\n",
            "conv2d_4 (Conv2D)            (None, 42, 42, 128)       73856     \n",
            "_________________________________________________________________\n",
            "activation_4 (Activation)    (None, 42, 42, 128)       0         \n",
            "_________________________________________________________________\n",
            "batch_normalization_4 (Batch (None, 42, 42, 128)       512       \n",
            "_________________________________________________________________\n",
            "conv2d_5 (Conv2D)            (None, 42, 42, 128)       147584    \n",
            "_________________________________________________________________\n",
            "activation_5 (Activation)    (None, 42, 42, 128)       0         \n",
            "_________________________________________________________________\n",
            "batch_normalization_5 (Batch (None, 42, 42, 128)       512       \n",
            "_________________________________________________________________\n",
            "max_pooling2d_3 (MaxPooling2 (None, 21, 21, 128)       0         \n",
            "_________________________________________________________________\n",
            "dropout_3 (Dropout)          (None, 21, 21, 128)       0         \n",
            "_________________________________________________________________\n",
            "flatten_1 (Flatten)          (None, 56448)             0         \n",
            "_________________________________________________________________\n",
            "dense_1 (Dense)              (None, 1024)              57803776  \n",
            "_________________________________________________________________\n",
            "activation_6 (Activation)    (None, 1024)              0         \n",
            "_________________________________________________________________\n",
            "batch_normalization_6 (Batch (None, 1024)              4096      \n",
            "_________________________________________________________________\n",
            "dropout_4 (Dropout)          (None, 1024)              0         \n",
            "_________________________________________________________________\n",
            "dense_2 (Dense)              (None, 38)                38950     \n",
            "_________________________________________________________________\n",
            "activation_7 (Activation)    (None, 38)                0         \n",
            "=================================================================\n",
            "Total params: 58,126,246\n",
            "Trainable params: 58,123,366\n",
            "Non-trainable params: 2,880\n",
            "_________________________________________________________________\n"
          ],
          "name": "stdout"
        }
      ]
    },
    {
      "cell_type": "code",
      "metadata": {
        "id": "I166lXAELYwo",
        "colab_type": "code",
        "colab": {
          "base_uri": "https://localhost:8080/",
          "height": 884
        },
        "outputId": "ae441a58-9e32-449d-8d66-af84a46086c8"
      },
      "source": [
        "opt = Adam(lr=INIT_LR, decay=INIT_LR / EPOCHS)\n",
        "# distribution\n",
        "model.compile(loss=\"binary_crossentropy\", optimizer=opt,metrics=[\"accuracy\"])\n",
        "# train the network\n",
        "print(\"[INFO] training network...\")\n",
        "\n",
        "history = model.fit_generator(\n",
        "    aug.flow(x_train, y_train, batch_size=BS),\n",
        "    validation_data=(x_test, y_test),\n",
        "    steps_per_epoch=len(x_train) // BS,\n",
        "    epochs=EPOCHS, verbose=1\n",
        "    )"
      ],
      "execution_count": 18,
      "outputs": [
        {
          "output_type": "stream",
          "text": [
            "[INFO] training network...\n",
            "Epoch 1/25\n",
            "232/232 [==============================] - 103s 445ms/step - loss: 0.0882 - accuracy: 0.9746 - val_loss: 0.4213 - val_accuracy: 0.9487\n",
            "Epoch 2/25\n",
            "232/232 [==============================] - 99s 428ms/step - loss: 0.0605 - accuracy: 0.9804 - val_loss: 0.1532 - val_accuracy: 0.9647\n",
            "Epoch 3/25\n",
            "232/232 [==============================] - 99s 427ms/step - loss: 0.0488 - accuracy: 0.9835 - val_loss: 0.0974 - val_accuracy: 0.9753\n",
            "Epoch 4/25\n",
            "232/232 [==============================] - 98s 423ms/step - loss: 0.0423 - accuracy: 0.9855 - val_loss: 0.1808 - val_accuracy: 0.9677\n",
            "Epoch 5/25\n",
            "232/232 [==============================] - 98s 422ms/step - loss: 0.0357 - accuracy: 0.9871 - val_loss: 0.2655 - val_accuracy: 0.9631\n",
            "Epoch 6/25\n",
            "232/232 [==============================] - 97s 418ms/step - loss: 0.0337 - accuracy: 0.9881 - val_loss: 0.1608 - val_accuracy: 0.9704\n",
            "Epoch 7/25\n",
            "232/232 [==============================] - 96s 413ms/step - loss: 0.0311 - accuracy: 0.9889 - val_loss: 0.1164 - val_accuracy: 0.9745\n",
            "Epoch 8/25\n",
            "232/232 [==============================] - 95s 408ms/step - loss: 0.0281 - accuracy: 0.9902 - val_loss: 0.0448 - val_accuracy: 0.9861\n",
            "Epoch 9/25\n",
            "232/232 [==============================] - 94s 405ms/step - loss: 0.0254 - accuracy: 0.9910 - val_loss: 0.0842 - val_accuracy: 0.9818\n",
            "Epoch 10/25\n",
            "232/232 [==============================] - 93s 400ms/step - loss: 0.0350 - accuracy: 0.9880 - val_loss: 0.0728 - val_accuracy: 0.9801\n",
            "Epoch 11/25\n",
            "232/232 [==============================] - 92s 396ms/step - loss: 0.0308 - accuracy: 0.9891 - val_loss: 0.0649 - val_accuracy: 0.9826\n",
            "Epoch 12/25\n",
            "232/232 [==============================] - 93s 401ms/step - loss: 0.0242 - accuracy: 0.9912 - val_loss: 0.0548 - val_accuracy: 0.9846\n",
            "Epoch 13/25\n",
            "232/232 [==============================] - 92s 398ms/step - loss: 0.0216 - accuracy: 0.9924 - val_loss: 0.0246 - val_accuracy: 0.9925\n",
            "Epoch 14/25\n",
            "232/232 [==============================] - 92s 397ms/step - loss: 0.0187 - accuracy: 0.9932 - val_loss: 0.0388 - val_accuracy: 0.9885\n",
            "Epoch 15/25\n",
            "232/232 [==============================] - 92s 398ms/step - loss: 0.0180 - accuracy: 0.9935 - val_loss: 0.0650 - val_accuracy: 0.9829\n",
            "Epoch 16/25\n",
            "232/232 [==============================] - 93s 399ms/step - loss: 0.0178 - accuracy: 0.9936 - val_loss: 0.0440 - val_accuracy: 0.9891\n",
            "Epoch 17/25\n",
            "232/232 [==============================] - 91s 392ms/step - loss: 0.0165 - accuracy: 0.9940 - val_loss: 0.0816 - val_accuracy: 0.9791\n",
            "Epoch 18/25\n",
            "232/232 [==============================] - 89s 384ms/step - loss: 0.0150 - accuracy: 0.9946 - val_loss: 0.0542 - val_accuracy: 0.9853\n",
            "Epoch 19/25\n",
            "232/232 [==============================] - 89s 382ms/step - loss: 0.0148 - accuracy: 0.9947 - val_loss: 0.0268 - val_accuracy: 0.9925\n",
            "Epoch 20/25\n",
            "232/232 [==============================] - 89s 382ms/step - loss: 0.0149 - accuracy: 0.9947 - val_loss: 0.0378 - val_accuracy: 0.9884\n",
            "Epoch 21/25\n",
            "232/232 [==============================] - 88s 381ms/step - loss: 0.0139 - accuracy: 0.9949 - val_loss: 0.1089 - val_accuracy: 0.9775\n",
            "Epoch 22/25\n",
            "232/232 [==============================] - 88s 381ms/step - loss: 0.0125 - accuracy: 0.9954 - val_loss: 0.0176 - val_accuracy: 0.9943\n",
            "Epoch 23/25\n",
            "232/232 [==============================] - 89s 384ms/step - loss: 0.0117 - accuracy: 0.9956 - val_loss: 0.1169 - val_accuracy: 0.9770\n",
            "Epoch 24/25\n",
            "232/232 [==============================] - 89s 386ms/step - loss: 0.0126 - accuracy: 0.9954 - val_loss: 0.0415 - val_accuracy: 0.9885\n",
            "Epoch 25/25\n",
            "232/232 [==============================] - 89s 385ms/step - loss: 0.0106 - accuracy: 0.9960 - val_loss: 0.0158 - val_accuracy: 0.9948\n"
          ],
          "name": "stdout"
        }
      ]
    },
    {
      "cell_type": "code",
      "metadata": {
        "id": "g3MhPCbnLcNz",
        "colab_type": "code",
        "colab": {
          "base_uri": "https://localhost:8080/",
          "height": 545
        },
        "outputId": "740e8331-3cf5-46ac-eaa9-da3887be149d"
      },
      "source": [
        "acc = history.history['accuracy']\n",
        "val_acc = history.history['val_accuracy']\n",
        "loss = history.history['loss']\n",
        "val_loss = history.history['val_loss']\n",
        "epochs = range(1, len(acc) + 1)\n",
        "#Train and validation accuracy\n",
        "plt.plot(epochs, acc, 'b', label='Training accurarcy')\n",
        "plt.plot(epochs, val_acc, 'r', label='Validation accurarcy')\n",
        "plt.title('Training and Validation accurarcy')\n",
        "plt.legend()\n",
        "\n",
        "plt.figure()\n",
        "#Train and validation loss\n",
        "plt.plot(epochs, loss, 'b', label='Training loss')\n",
        "plt.plot(epochs, val_loss, 'r', label='Validation loss')\n",
        "plt.title('Training and Validation loss')\n",
        "plt.legend()\n",
        "plt.show()"
      ],
      "execution_count": 19,
      "outputs": [
        {
          "output_type": "display_data",
          "data": {
            "image/png": "[encoded data removed]",
            "text/plain": [
              "<Figure size 432x288 with 1 Axes>"
            ]
          },
          "metadata": {
            "tags": [],
            "needs_background": "light"
          }
        },
        {
          "output_type": "display_data",
          "data": {
            "image/png": "[encoded data removed]",
            "text/plain": [
              "<Figure size 432x288 with 1 Axes>"
            ]
          },
          "metadata": {
            "tags": [],
            "needs_background": "light"
          }
        }
      ]
    },
    {
      "cell_type": "code",
      "metadata": {
        "id": "4cVOTsJQMidq",
        "colab_type": "code",
        "colab": {
          "base_uri": "https://localhost:8080/",
          "height": 68
        },
        "outputId": "e1b2b427-2b60-4158-ff47-72f9770b3a2e"
      },
      "source": [
        "print(\"[INFO] Calculating model accuracy\")\n",
        "scores = model.evaluate(x_test, y_test)\n",
        "print(f\"Test Accuracy: {scores[1]*100}\")"
      ],
      "execution_count": 20,
      "outputs": [
        {
          "output_type": "stream",
          "text": [
            "[INFO] Calculating model accuracy\n",
            "1860/1860 [==============================] - 4s 2ms/step\n",
            "Test Accuracy: 99.47934746742249\n"
          ],
          "name": "stdout"
        }
      ]
    },
    {
      "cell_type": "code",
      "metadata": {
        "id": "13-XPAR8NZbq",
        "colab_type": "code",
        "colab": {
          "base_uri": "https://localhost:8080/",
          "height": 34
        },
        "outputId": "12ae7ad9-4182-488e-de32-c6de7276f6b7"
      },
      "source": [
        "print(\"[INFO] Saving model...\")\n",
        "pickle.dump(model,open('cnn_model_38_classes_test_2_250imagesperclass.pkl', 'wb'))"
      ],
      "execution_count": 21,
      "outputs": [
        {
          "output_type": "stream",
          "text": [
            "[INFO] Saving model...\n"
          ],
          "name": "stdout"
        }
      ]
    },
    {
      "cell_type": "code",
      "metadata": {
        "id": "wYJrhvq6NhtM",
        "colab_type": "code",
        "colab": {
          "base_uri": "https://localhost:8080/",
          "height": 34
        },
        "outputId": "5149df2e-2f97-4557-d082-9c2f04af25e7"
      },
      "source": [
        "import shutil, os\n",
        "files = \"/content/cnn_model_38_classes_test_2_250imagesperclass.pkl\"\n",
        "shutil.copy(files, '/content/gdrive/My Drive/raw/PlantVillage-Dataset-master/models/')"
      ],
      "execution_count": 24,
      "outputs": [
        {
          "output_type": "execute_result",
          "data": {
            "text/plain": [
              "'/content/gdrive/My Drive/raw/PlantVillage-Dataset-master/models/cnn_model_38_classes_test_2_250imagesperclass.pkl'"
            ]
          },
          "metadata": {
            "tags": []
          },
          "execution_count": 24
        }
      ]
    },
    {
      "cell_type": "code",
      "metadata": {
        "id": "136JS5gfJ1cb",
        "colab_type": "code",
        "colab": {
          "base_uri": "https://localhost:8080/",
          "height": 1000
        },
        "outputId": "10993d62-c560-4e64-b8e3-edf05c0cac77"
      },
      "source": [
        "from sklearn.metrics import confusion_matrix \n",
        "from sklearn.metrics import accuracy_score \n",
        "from sklearn.metrics import classification_report \n",
        "a = model.predict(x_test)\n",
        "print(a)\n",
        "from sklearn import metrics\n",
        "y_pred = a\n",
        "matrix = metrics.confusion_matrix(y_test.argmax(axis=1), y_pred.argmax(axis=1))\n",
        "print ('Accuracy Score :',accuracy_score(y_test.argmax(axis=1), y_pred.argmax(axis=1)) )\n",
        "print ('Report : ')\n",
        "print (classification_report(y_test.argmax(axis=1), y_pred.argmax(axis=1)) )\n",
        "# Writing to an excel \n",
        "# sheet using Python \n",
        "import xlwt \n",
        "from xlwt import Workbook \n",
        "\n",
        "# Workbook is created \n",
        "wb = Workbook() \n",
        "\n",
        "# add_sheet is used to create sheet. \n",
        "sheet1 = wb.add_sheet('Sheet 1') \n",
        "\n",
        "\n",
        "f = open(\"confusion_matrix.txt\", \"w\")\n",
        "for i in range(len(matrix)):\n",
        "    for j in range(len(matrix[i])):\n",
        "        sheet1.write(i, j, str(matrix[i][j]))\n",
        "        print(matrix[i][j], end=\" \")\n",
        "        f.write(str(matrix[i][j])+\" \")\n",
        "    print(\"\\n\")\n",
        "    f.write(\"\\n\")\n",
        "wb.save('confusion_matrix.xls') "
      ],
      "execution_count": 23,
      "outputs": [
        {
          "output_type": "stream",
          "text": [
            "[[1.49088191e-06 2.26475262e-11 1.19605298e-10 ... 1.72351803e-11\n",
            "  5.41092782e-10 7.93239607e-09]\n",
            " [1.19414437e-21 1.62473666e-19 7.70713715e-26 ... 1.68803510e-19\n",
            "  2.03755078e-18 1.00000000e+00]\n",
            " [1.13676714e-10 7.37316134e-16 1.12640444e-11 ... 9.11744920e-08\n",
            "  1.59136810e-08 2.44736786e-10]\n",
            " ...\n",
            " [3.49469497e-06 3.54726126e-06 3.98436811e-07 ... 3.47964124e-09\n",
            "  1.18202024e-07 1.73555004e-10]\n",
            " [3.08909311e-13 8.40604530e-10 8.97226848e-10 ... 7.77819142e-10\n",
            "  4.90156388e-11 1.10123126e-10]\n",
            " [4.07174497e-07 2.23573707e-07 1.89373327e-06 ... 1.90298510e-09\n",
            "  5.97279808e-08 7.59696877e-06]]\n",
            "Accuracy Score : 0.8946236559139785\n",
            "Report : \n",
            "              precision    recall  f1-score   support\n",
            "\n",
            "           0       0.86      0.93      0.90        46\n",
            "           1       0.90      1.00      0.95        53\n",
            "           2       0.94      0.98      0.96        48\n",
            "           3       0.82      0.98      0.89        55\n",
            "           4       1.00      0.94      0.97        48\n",
            "           5       0.96      0.96      0.96        47\n",
            "           6       0.89      0.98      0.93        42\n",
            "           7       0.94      0.94      0.94        50\n",
            "           8       1.00      0.98      0.99        48\n",
            "           9       0.91      0.96      0.94        55\n",
            "          10       1.00      1.00      1.00        51\n",
            "          11       0.97      0.74      0.84        47\n",
            "          12       0.92      0.92      0.92        59\n",
            "          13       0.98      0.96      0.97        56\n",
            "          14       0.95      0.89      0.92        47\n",
            "          15       0.98      1.00      0.99        46\n",
            "          16       0.95      0.70      0.80        56\n",
            "          17       1.00      0.91      0.95        56\n",
            "          18       0.98      0.91      0.94        46\n",
            "          19       0.98      0.78      0.87        54\n",
            "          20       0.96      1.00      0.98        49\n",
            "          21       0.66      0.88      0.75        48\n",
            "          22       0.60      0.96      0.74        28\n",
            "          23       0.98      0.98      0.98        55\n",
            "          24       1.00      0.98      0.99        49\n",
            "          25       0.97      0.97      0.97        39\n",
            "          26       0.94      1.00      0.97        47\n",
            "          27       0.98      1.00      0.99        58\n",
            "          28       0.90      0.73      0.81        49\n",
            "          29       0.95      0.70      0.81        54\n",
            "          30       0.83      0.57      0.67        51\n",
            "          31       0.89      0.67      0.77        49\n",
            "          32       0.82      0.74      0.78        43\n",
            "          33       1.00      0.65      0.79        37\n",
            "          34       0.54      0.81      0.65        47\n",
            "          35       0.95      0.85      0.90        48\n",
            "          36       0.70      1.00      0.83        45\n",
            "          37       0.78      1.00      0.88        54\n",
            "\n",
            "    accuracy                           0.89      1860\n",
            "   macro avg       0.91      0.89      0.89      1860\n",
            "weighted avg       0.91      0.89      0.89      1860\n",
            "\n",
            "43 1 0 0 0 0 0 0 0 0 0 0 0 0 0 0 0 0 0 0 0 0 0 0 0 0 0 0 1 0 0 1 0 0 0 0 0 0 \n",
            "\n",
            "0 53 0 0 0 0 0 0 0 0 0 0 0 0 0 0 0 0 0 0 0 0 0 0 0 0 0 0 0 0 0 0 0 0 0 0 0 0 \n",
            "\n",
            "0 0 47 0 0 0 0 0 0 1 0 0 0 0 0 0 0 0 0 0 0 0 0 0 0 0 0 0 0 0 0 0 0 0 0 0 0 0 \n",
            "\n",
            "1 0 0 54 0 0 0 0 0 0 0 0 0 0 0 0 0 0 0 0 0 0 0 0 0 0 0 0 0 0 0 0 0 0 0 0 0 0 \n",
            "\n",
            "0 1 0 1 45 0 0 0 0 0 0 0 0 0 0 0 0 0 0 0 0 0 1 0 0 0 0 0 0 0 0 0 0 0 0 0 0 0 \n",
            "\n",
            "0 0 0 0 0 45 0 0 0 0 0 0 0 0 0 0 0 0 0 0 0 0 0 0 0 0 0 0 0 0 0 0 0 0 0 0 1 1 \n",
            "\n",
            "0 0 0 0 0 0 41 0 0 0 0 0 0 0 0 0 0 0 0 0 0 0 1 0 0 0 0 0 0 0 0 0 0 0 0 0 0 0 \n",
            "\n",
            "0 0 0 0 0 0 0 47 0 3 0 0 0 0 0 0 0 0 0 0 0 0 0 0 0 0 0 0 0 0 0 0 0 0 0 0 0 0 \n",
            "\n",
            "0 0 0 0 0 0 0 1 47 0 0 0 0 0 0 0 0 0 0 0 0 0 0 0 0 0 0 0 0 0 0 0 0 0 0 0 0 0 \n",
            "\n",
            "0 0 0 0 0 0 0 2 0 53 0 0 0 0 0 0 0 0 0 0 0 0 0 0 0 0 0 0 0 0 0 0 0 0 0 0 0 0 \n",
            "\n",
            "0 0 0 0 0 0 0 0 0 0 51 0 0 0 0 0 0 0 0 0 0 0 0 0 0 0 0 0 0 0 0 0 0 0 0 0 0 0 \n",
            "\n",
            "0 0 0 0 0 0 0 0 0 0 0 35 4 0 1 0 0 0 0 0 0 0 0 0 0 0 0 0 2 0 0 0 0 0 4 1 0 0 \n",
            "\n",
            "0 0 0 0 0 0 0 0 0 0 0 0 54 1 0 0 0 0 0 0 0 0 0 0 0 1 0 0 0 0 0 0 1 0 0 0 0 2 \n",
            "\n",
            "0 0 0 0 0 0 0 0 0 0 0 0 0 54 0 0 0 0 0 0 0 1 0 0 0 0 0 0 1 0 0 0 0 0 0 0 0 0 \n",
            "\n",
            "0 0 0 1 0 0 0 0 0 0 0 0 0 0 42 0 0 0 0 1 0 0 0 1 0 0 0 1 0 0 0 0 1 0 0 0 0 0 \n",
            "\n",
            "0 0 0 0 0 0 0 0 0 0 0 0 0 0 0 46 0 0 0 0 0 0 0 0 0 0 0 0 0 0 0 0 0 0 0 0 0 0 \n",
            "\n",
            "4 0 2 1 0 0 0 0 0 1 0 0 0 0 0 0 39 0 1 0 0 0 0 0 0 0 1 0 0 1 2 0 1 0 1 0 2 0 \n",
            "\n",
            "0 1 0 0 0 0 0 0 0 0 0 0 0 0 0 0 0 51 0 0 0 0 0 0 0 0 0 0 0 0 0 0 0 0 3 0 1 0 \n",
            "\n",
            "0 0 0 0 0 0 0 0 0 0 0 1 1 0 0 0 0 0 42 0 0 0 0 0 0 0 0 0 0 0 0 0 1 0 1 0 0 0 \n",
            "\n",
            "0 0 0 0 0 0 3 0 0 0 0 0 0 0 0 0 0 0 0 42 0 0 9 0 0 0 0 0 0 0 0 0 0 0 0 0 0 0 \n",
            "\n",
            "0 0 0 0 0 0 0 0 0 0 0 0 0 0 0 0 0 0 0 0 49 0 0 0 0 0 0 0 0 0 0 0 0 0 0 0 0 0 \n",
            "\n",
            "0 0 0 0 0 0 0 0 0 0 0 0 0 0 0 0 0 0 0 0 0 42 2 0 0 0 1 0 0 0 0 0 0 0 3 0 0 0 \n",
            "\n",
            "0 0 0 0 0 0 0 0 0 0 0 0 0 0 0 0 0 0 0 0 0 1 27 0 0 0 0 0 0 0 0 0 0 0 0 0 0 0 \n",
            "\n",
            "0 0 0 0 0 0 1 0 0 0 0 0 0 0 0 0 0 0 0 0 0 0 0 54 0 0 0 0 0 0 0 0 0 0 0 0 0 0 \n",
            "\n",
            "0 0 0 0 0 0 0 0 0 0 0 0 0 0 0 0 0 0 0 0 0 0 1 0 48 0 0 0 0 0 0 0 0 0 0 0 0 0 \n",
            "\n",
            "0 0 0 0 0 0 0 0 0 0 0 0 0 0 0 0 0 0 0 0 0 1 0 0 0 38 0 0 0 0 0 0 0 0 0 0 0 0 \n",
            "\n",
            "0 0 0 0 0 0 0 0 0 0 0 0 0 0 0 0 0 0 0 0 0 0 0 0 0 0 47 0 0 0 0 0 0 0 0 0 0 0 \n",
            "\n",
            "0 0 0 0 0 0 0 0 0 0 0 0 0 0 0 0 0 0 0 0 0 0 0 0 0 0 0 58 0 0 0 0 0 0 0 0 0 0 \n",
            "\n",
            "0 0 1 1 0 1 0 0 0 0 0 0 0 0 0 0 1 0 0 0 0 0 0 0 0 0 0 0 36 0 3 1 1 0 3 1 0 0 \n",
            "\n",
            "0 0 0 0 0 0 0 0 0 0 0 0 0 0 0 0 1 0 0 0 1 8 0 0 0 0 0 0 0 38 1 0 1 0 4 0 0 0 \n",
            "\n",
            "1 1 0 0 0 1 0 0 0 0 0 0 0 0 1 0 0 0 0 0 0 11 0 0 0 0 1 0 0 1 29 1 0 0 2 0 1 1 \n",
            "\n",
            "1 0 0 8 0 0 0 0 0 0 0 0 0 0 0 0 0 0 0 0 0 0 0 0 0 0 0 0 0 0 0 33 1 0 1 0 5 0 \n",
            "\n",
            "0 2 0 0 0 0 1 0 0 0 0 0 0 0 0 0 0 0 0 0 1 0 4 0 0 0 0 0 0 0 0 0 32 0 0 0 3 0 \n",
            "\n",
            "0 0 0 0 0 0 0 0 0 0 0 0 0 0 0 1 0 0 0 0 0 0 0 0 0 0 0 0 0 0 0 0 0 24 7 0 2 3 \n",
            "\n",
            "0 0 0 0 0 0 0 0 0 0 0 0 0 0 0 0 0 0 0 0 0 0 0 0 0 0 0 0 0 0 0 0 0 0 38 0 1 8 \n",
            "\n",
            "0 0 0 0 0 0 0 0 0 0 0 0 0 0 0 0 0 0 0 0 0 0 0 0 0 0 0 0 0 0 0 1 0 0 3 41 3 0 \n",
            "\n",
            "0 0 0 0 0 0 0 0 0 0 0 0 0 0 0 0 0 0 0 0 0 0 0 0 0 0 0 0 0 0 0 0 0 0 0 0 45 0 \n",
            "\n",
            "0 0 0 0 0 0 0 0 0 0 0 0 0 0 0 0 0 0 0 0 0 0 0 0 0 0 0 0 0 0 0 0 0 0 0 0 0 54 \n",
            "\n"
          ],
          "name": "stdout"
        }
      ]
    },
    {
      "cell_type": "code",
      "metadata": {
        "id": "VlvHnW04-xPB",
        "colab_type": "code",
        "colab": {}
      },
      "source": [
        ""
      ],
      "execution_count": 0,
      "outputs": []
    }
  ]
}